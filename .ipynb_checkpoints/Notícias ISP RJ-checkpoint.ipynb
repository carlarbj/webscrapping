{
 "cells": [
  {
   "cell_type": "markdown",
   "id": "974d7599",
   "metadata": {
    "heading_collapsed": true
   },
   "source": [
    "#  Import all required libraries"
   ]
  },
  {
   "cell_type": "code",
   "execution_count": 1,
   "id": "9ded1919",
   "metadata": {
    "ExecuteTime": {
     "end_time": "2021-11-19T16:44:34.405955Z",
     "start_time": "2021-11-19T16:44:22.409349Z"
    },
    "hidden": true
   },
   "outputs": [
    {
     "name": "stdout",
     "output_type": "stream",
     "text": [
      "Requirement already satisfied: pymysql in c:\\users\\indra\\anaconda3\\lib\\site-packages (1.0.2)\n"
     ]
    }
   ],
   "source": [
    "import re\n",
    "import numpy as np\n",
    "import pandas as pd\n",
    "import requests\n",
    "from bs4 import BeautifulSoup\n",
    "\n",
    "!pip install pymysql\n",
    "import sqlalchemy as db\n",
    "from sqlalchemy import create_engine"
   ]
  },
  {
   "cell_type": "markdown",
   "id": "16f1a1b7",
   "metadata": {
    "heading_collapsed": true
   },
   "source": [
    "# Define usecase, define the url to scrape and get the response\n",
    "<< Web Scraping News Articles from the Rio de Janeiro Public Security Institute to build an NLP Data Pipeline>>"
   ]
  },
  {
   "cell_type": "code",
   "execution_count": 2,
   "id": "64aadfc0",
   "metadata": {
    "ExecuteTime": {
     "end_time": "2021-11-19T16:44:34.732249Z",
     "start_time": "2021-11-19T16:44:34.409879Z"
    },
    "hidden": true
   },
   "outputs": [],
   "source": [
    "# get the url\n",
    "url = 'http://www.isp.rj.gov.br/NoticiaLista.asp'\n",
    "response = requests.get(url)"
   ]
  },
  {
   "cell_type": "code",
   "execution_count": 3,
   "id": "15592396",
   "metadata": {
    "ExecuteTime": {
     "end_time": "2021-11-19T16:44:34.779206Z",
     "start_time": "2021-11-19T16:44:34.743207Z"
    },
    "hidden": true
   },
   "outputs": [],
   "source": [
    "# get the HTML and do the soup\n",
    "html = response.content\n",
    "soup = BeautifulSoup(html)"
   ]
  },
  {
   "cell_type": "code",
   "execution_count": 4,
   "id": "9e91da3c",
   "metadata": {
    "ExecuteTime": {
     "end_time": "2021-11-19T16:44:34.811167Z",
     "start_time": "2021-11-19T16:44:34.782185Z"
    },
    "hidden": true
   },
   "outputs": [
    {
     "data": {
      "text/plain": [
       "'http://www.isp.rj.gov.br/Noticias.asp?ident=475'"
      ]
     },
     "execution_count": 4,
     "metadata": {},
     "output_type": "execute_result"
    }
   ],
   "source": [
    "# define a variable ver_mais to the the tag's url information\n",
    "ver_mais = soup.find_all('a', {'class':'verMais'})\n",
    "'http://www.isp.rj.gov.br/' + soup.find_all('a', {'class':'verMais'})[0].get('href')"
   ]
  },
  {
   "cell_type": "code",
   "execution_count": 5,
   "id": "784f1b47",
   "metadata": {
    "ExecuteTime": {
     "end_time": "2021-11-19T16:44:34.827156Z",
     "start_time": "2021-11-19T16:44:34.814168Z"
    },
    "hidden": true
   },
   "outputs": [],
   "source": [
    "# here we have the url of one page with it's around 10 news\n",
    "noticias = ['http://www.isp.rj.gov.br/'+ url.get('href') for url in ver_mais]"
   ]
  },
  {
   "cell_type": "code",
   "execution_count": 6,
   "id": "2cd94713",
   "metadata": {
    "ExecuteTime": {
     "end_time": "2021-11-19T16:44:34.843148Z",
     "start_time": "2021-11-19T16:44:34.831154Z"
    },
    "hidden": true
   },
   "outputs": [],
   "source": [
    "# create a function to make it easier to return the info we need: first we request the url, get the response and do the soup and then we declare and return the variables we need for the NLP\n",
    "# soup_title, soup_data, soup_content\n",
    "def scrape(url):\n",
    "    response = requests.get(url)\n",
    "    html = response.content\n",
    "    scrape_pgs = BeautifulSoup(html)\n",
    "    \n",
    "    soup_title = scrape_pgs.find('h3').text\n",
    "    soup_data = scrape_pgs.find('p', {'class': 'dataHoraNoticia'}).text\n",
    "    soup_content = scrape_pgs.find('div', {'class':'conteudo'}).text\n",
    "    \n",
    "    return soup_title, soup_data, soup_content"
   ]
  },
  {
   "cell_type": "code",
   "execution_count": 7,
   "id": "400b8644",
   "metadata": {
    "ExecuteTime": {
     "end_time": "2021-11-19T16:44:34.859139Z",
     "start_time": "2021-11-19T16:44:34.850147Z"
    },
    "hidden": true
   },
   "outputs": [],
   "source": [
    "# here we have the url of all tens of pages from 2008 to 2021\n",
    "pages = [f'http://www.isp.rj.gov.br/Noticias.asp?ident={pages}' for pages in range(1,476)]"
   ]
  },
  {
   "cell_type": "code",
   "execution_count": 8,
   "id": "d63e8c44",
   "metadata": {
    "ExecuteTime": {
     "end_time": "2021-11-19T16:44:35.109312Z",
     "start_time": "2021-11-19T16:44:34.864137Z"
    },
    "hidden": true
   },
   "outputs": [],
   "source": [
    "# here we call the function scrape we created so that it returns: soup_title, soup_data, soup_content for each news in the given http\n",
    "scrape_pgs = scrape('http://www.isp.rj.gov.br/Noticias.asp?ident=1')"
   ]
  },
  {
   "cell_type": "code",
   "execution_count": 9,
   "id": "13a59b8a",
   "metadata": {
    "ExecuteTime": {
     "end_time": "2021-11-19T16:46:05.560206Z",
     "start_time": "2021-11-19T16:44:35.112233Z"
    },
    "hidden": true
   },
   "outputs": [],
   "source": [
    "# here we create a for loop so that it returns a list with all the scraped pages returning: soup_title, soup_data, soup_content for each news\n",
    "all_scrape = []\n",
    "for i in pages:\n",
    "    all_scrape.append(scrape(i))"
   ]
  },
  {
   "cell_type": "markdown",
   "id": "bc9fa471",
   "metadata": {
    "heading_collapsed": true
   },
   "source": [
    "# Transform the list of objects in a Dataframe "
   ]
  },
  {
   "cell_type": "code",
   "execution_count": 27,
   "id": "75103f4f",
   "metadata": {
    "ExecuteTime": {
     "end_time": "2021-11-19T17:09:09.516502Z",
     "start_time": "2021-11-19T17:09:09.447547Z"
    },
    "hidden": true,
    "scrolled": true
   },
   "outputs": [
    {
     "data": {
      "text/html": [
       "<div>\n",
       "<style scoped>\n",
       "    .dataframe tbody tr th:only-of-type {\n",
       "        vertical-align: middle;\n",
       "    }\n",
       "\n",
       "    .dataframe tbody tr th {\n",
       "        vertical-align: top;\n",
       "    }\n",
       "\n",
       "    .dataframe thead th {\n",
       "        text-align: right;\n",
       "    }\n",
       "</style>\n",
       "<table border=\"1\" class=\"dataframe\">\n",
       "  <thead>\n",
       "    <tr style=\"text-align: right;\">\n",
       "      <th></th>\n",
       "      <th>titulo</th>\n",
       "      <th>data</th>\n",
       "      <th>conteudo</th>\n",
       "    </tr>\n",
       "  </thead>\n",
       "  <tbody>\n",
       "    <tr>\n",
       "      <th>0</th>\n",
       "      <td>Roubos de veículos no Estado apresentou queda ...</td>\n",
       "      <td>Renata Fortes06/03/2008 16:35h</td>\n",
       "      <td>\\nO Instituto de Segurança Pública (ISP) divul...</td>\n",
       "    </tr>\n",
       "    <tr>\n",
       "      <th>1</th>\n",
       "      <td>Começa Curso de Capacitação para Policiais</td>\n",
       "      <td>Renata Fortes07/03/2008 16:39h</td>\n",
       "      <td>\\nO presidente do Instituto de Segurança Públi...</td>\n",
       "    </tr>\n",
       "    <tr>\n",
       "      <th>2</th>\n",
       "      <td>Dossiê Mulher</td>\n",
       "      <td>Renata Fortes07/03/2008 16:42h</td>\n",
       "      <td>\\nO Instituto de Segurança Pública informa que...</td>\n",
       "    </tr>\n",
       "    <tr>\n",
       "      <th>3</th>\n",
       "      <td>Reunião apresentará novo Presidente do Institu...</td>\n",
       "      <td>Renata Fortes07/03/2008 16:45h</td>\n",
       "      <td>\\nO Presidente do Instituto de Segurança Públi...</td>\n",
       "    </tr>\n",
       "    <tr>\n",
       "      <th>4</th>\n",
       "      <td>Transparência, agilidade e maior clareza no le...</td>\n",
       "      <td>Renata Fortes07/03/2008 19:00h</td>\n",
       "      <td>\\nO Tenente-Coronel Mário Sérgio de Brito Duar...</td>\n",
       "    </tr>\n",
       "  </tbody>\n",
       "</table>\n",
       "</div>"
      ],
      "text/plain": [
       "                                              titulo  \\\n",
       "0  Roubos de veículos no Estado apresentou queda ...   \n",
       "1         Começa Curso de Capacitação para Policiais   \n",
       "2                                      Dossiê Mulher   \n",
       "3  Reunião apresentará novo Presidente do Institu...   \n",
       "4  Transparência, agilidade e maior clareza no le...   \n",
       "\n",
       "                             data  \\\n",
       "0  Renata Fortes06/03/2008 16:35h   \n",
       "1  Renata Fortes07/03/2008 16:39h   \n",
       "2  Renata Fortes07/03/2008 16:42h   \n",
       "3  Renata Fortes07/03/2008 16:45h   \n",
       "4  Renata Fortes07/03/2008 19:00h   \n",
       "\n",
       "                                            conteudo  \n",
       "0  \\nO Instituto de Segurança Pública (ISP) divul...  \n",
       "1  \\nO presidente do Instituto de Segurança Públi...  \n",
       "2  \\nO Instituto de Segurança Pública informa que...  \n",
       "3  \\nO Presidente do Instituto de Segurança Públi...  \n",
       "4  \\nO Tenente-Coronel Mário Sérgio de Brito Duar...  "
      ]
     },
     "execution_count": 27,
     "metadata": {},
     "output_type": "execute_result"
    }
   ],
   "source": [
    "# transforming our list of items in a dataframe \n",
    "all_scrape\n",
    "# Calling DataFrame constructor on list \n",
    "df_isp = pd.DataFrame(all_scrape, columns =['titulo', 'data', 'conteudo'], dtype = str) \n",
    "df_isp.head()"
   ]
  },
  {
   "cell_type": "markdown",
   "id": "6d0c70aa",
   "metadata": {},
   "source": [
    "# Data cleaning: remove stop words"
   ]
  },
  {
   "cell_type": "markdown",
   "id": "09339aa7",
   "metadata": {
    "ExecuteTime": {
     "end_time": "2021-11-19T02:51:16.150279Z",
     "start_time": "2021-11-19T02:51:15.710506Z"
    }
   },
   "source": [
    "### Import NLTK library to add stop words \n",
    "<<The Natural Language Toolkit, or more commonly NLTK, is a suite of libraries and programs for symbolic and statistical natural language processing (NLP) >>\n"
   ]
  },
  {
   "cell_type": "code",
   "execution_count": 28,
   "id": "eae4bac7",
   "metadata": {
    "ExecuteTime": {
     "end_time": "2021-11-19T17:09:19.052662Z",
     "start_time": "2021-11-19T17:09:19.001687Z"
    }
   },
   "outputs": [
    {
     "name": "stderr",
     "output_type": "stream",
     "text": [
      "[nltk_data] Downloading package stopwords to\n",
      "[nltk_data]     C:\\Users\\Indra\\AppData\\Roaming\\nltk_data...\n",
      "[nltk_data]   Package stopwords is already up-to-date!\n",
      "[nltk_data] Downloading package stopwords to\n",
      "[nltk_data]     C:\\Users\\Indra\\AppData\\Roaming\\nltk_data...\n",
      "[nltk_data]   Package stopwords is already up-to-date!\n",
      "[nltk_data] Downloading package punkt to\n",
      "[nltk_data]     C:\\Users\\Indra\\AppData\\Roaming\\nltk_data...\n",
      "[nltk_data]   Package punkt is already up-to-date!\n"
     ]
    },
    {
     "data": {
      "text/plain": [
       "True"
      ]
     },
     "execution_count": 28,
     "metadata": {},
     "output_type": "execute_result"
    }
   ],
   "source": [
    "import nltk\n",
    "nltk.download('stopwords')\n",
    "# Importing stopwords in portuguese\n",
    "import nltk\n",
    "nltk.download('stopwords')\n",
    "stopwords = nltk.corpus.stopwords.words('portuguese')\n",
    "from nltk.tokenize import word_tokenize\n",
    "import regex\n",
    "import string\n",
    "nltk.download('punkt')"
   ]
  },
  {
   "cell_type": "markdown",
   "id": "f1eedd62",
   "metadata": {},
   "source": [
    "### Adding  stop words to NLTK stoplist\n"
   ]
  },
  {
   "cell_type": "code",
   "execution_count": 29,
   "id": "b9ea615f",
   "metadata": {
    "ExecuteTime": {
     "end_time": "2021-11-19T17:09:23.384313Z",
     "start_time": "2021-11-19T17:09:23.293381Z"
    }
   },
   "outputs": [],
   "source": [
    "stopwords = nltk.corpus.stopwords.words('portuguese')\n",
    "new_stopwords = ['mês','janeiro','fevereiro','março','abril','maio', 'junho','julho','agosto', 'setembro', 'outubro', 'novembro', 'dezembro', 'dois', 'três','quatro','cinco','seis','sete','oito','nove', 'dez',\n",
    "               'onze','doze','vinte','trinta','quarenta','cinquenta','sessenta','setenta','oitenta','noventa','cem', 'email', 'renata', 'fortes','rfortesisprjgovbrwwwisprjgovbr', 'assim', 'segundafeira','terçafeira',\n",
    "               'quartafeira','quintafeira','sextafeira','sábado','domingo','feira', 'enquanto', 'dia','ano', 'instituto', 'pública', 'isp', 'divulgou', 'assessoria', 'imprensa','comparados', 'período', 'destaque',\n",
    "                'acontece', 'entanto', 'vale', 'observar', 'dessa','outras', 'irão', 'disso','daquele', 'daquela', 'deste', 'desta', 'tendo','participou','nesta', 'semana', 'a', 'à', 'adeus', 'agora', 'aí', \n",
    "                 'ainda', 'além', 'algo', 'alguém', 'algum', 'alguma', 'algumas', 'alguns', 'ali', 'ampla', 'amplas', 'amplo', 'amplos', 'ano', 'anos', 'ante', 'antes', 'ao', 'aos', 'apenas', 'apoio', 'após', \n",
    "                 'aquela', 'aquelas', 'aquele', 'aqueles', 'aqui', 'aquilo', 'área', 'as', 'às', 'assim', 'até', 'atrás', 'através', 'baixo', 'bastante', 'bem', 'boa', 'boas', 'bom', 'bons', 'breve', 'cá', 'cada',\n",
    "                 'catorze', 'cedo', 'cento', 'certamente', 'certeza', 'cima', 'cinco', 'coisa', 'coisas', 'com', 'como', 'conselho', 'contra', 'contudo', 'custa', 'da', 'dá', 'dão', 'daquela', 'daquelas', \n",
    "                 'daquele', 'daqueles', 'dar', 'das', 'de', 'debaixo', 'dela', 'delas', 'dele', 'deles', 'demais', 'dentro', 'depois', 'desde', 'dessa', 'dessas', 'desse', 'desses', 'desta', 'destas', 'deste', \n",
    "                 'destes', 'deve', 'devem', 'devendo', 'dever', 'deverá', 'deverão', 'deveria', 'deveriam', 'devia', 'deviam', 'dez', 'dezanove', 'dezasseis', 'dezassete', 'dezoito', 'dia', 'diante', 'disse', \n",
    "                 'disso', 'disto', 'dito', 'diz', 'dizem', 'dizer', 'do', 'dois', 'dos', 'doze', 'duas', 'dúvida', 'e', 'é', 'ela', 'elas', 'ele', 'eles', 'em', 'embora', 'enquanto', 'entre', 'era', 'eram', \n",
    "                 'éramos', 'és', 'essa', 'essas', 'esse', 'esses', 'esta', 'está', 'estamos', 'estão', 'estar', 'estas', 'estás', 'estava', 'estavam', 'estávamos', 'este', 'esteja', 'estejam', 'estejamos', 'estes',\n",
    "                 'esteve', 'estive', 'estivemos', 'estiver', 'estivera', 'estiveram', 'estivéramos', 'estiverem', 'estivermos', 'estivesse', 'estivessem', 'estivéssemos', 'estiveste', 'estivestes', 'estou', 'etc',\n",
    "                 'eu', 'exemplo', 'faço', 'falta', 'favor', 'faz', 'fazeis', 'fazem', 'fazemos', 'fazendo', 'fazer', 'fazes', 'feita', 'feitas', 'feito', 'feitos', 'fez', 'fim', 'final', 'foi', 'fomos', 'for', \n",
    "                 'fora', 'foram', 'fôramos', 'forem', 'forma', 'formos', 'fosse', 'fossem', 'fôssemos', 'foste', 'fostes', 'fui', 'geral', 'grande', 'grandes', 'grupo', 'há', 'haja', 'hajam', 'hajamos', 'hão',\n",
    "                 'havemos', 'havia', 'hei', 'hoje', 'hora', 'horas', 'houve', 'houvemos', 'houver', 'houvera', 'houverá', 'houveram', 'houvéramos', 'houverão', 'houverei', 'houverem', 'houveremos', 'houveria', \n",
    "                 'houveriam', 'houveríamos', 'houvermos', 'houvesse', 'houvessem', 'houvéssemos', 'isso', 'isto', 'já', 'la', 'lá', 'lado', 'lhe', 'lhes', 'lo', 'local', 'logo', 'longe', 'lugar', 'maior', 'maioria',\n",
    "                 'mais', 'mal', 'mas', 'máximo', 'me', 'meio', 'menor', 'menos', 'mês', 'meses', 'mesma', 'mesmas', 'mesmo', 'mesmos', 'meu', 'meus', 'mil', 'minha', 'minhas', 'momento', 'muita', 'muitas', \n",
    "                 'muito', 'muitos', 'na', 'nada', 'não', 'naquela', 'naquelas', 'naquele', 'naqueles', 'nas', 'nem', 'nenhum', 'nenhuma', 'nessa', 'nessas', 'nesse', 'nesses', 'nesta', 'nestas', 'neste', 'nestes',\n",
    "                 'ninguém', 'nível', 'no', 'noite', 'nome', 'nos', 'nós', 'nossa', 'nossas', 'nosso', 'nossos', 'nova', 'novas', 'nove', 'novo', 'novos', 'num', 'numa', 'número', 'nunca', 'o', 'obra', 'obrigada', \n",
    "                 'obrigado', 'oitava', 'oitavo', 'oito', 'onde', 'ontem', 'onze', 'os', 'ou', 'outra', 'outras', 'outro', 'outros', 'para', 'parece', 'parte', 'partir', 'paucas', 'pela', 'pelas', 'pelo', 'pelos',\n",
    "                 'pequena', 'pequenas', 'pequeno', 'pequenos', 'per', 'perante', 'perto', 'pode', 'pude', 'pôde', 'podem', 'podendo', 'poder', 'poderia', 'poderiam', 'podia', 'podiam', 'põe', 'põem', 'pois', \n",
    "                 'ponto', 'pontos', 'por', 'porém', 'porque', 'porquê', 'posição', 'possível', 'possivelmente', 'posso', 'pouca', 'poucas', 'pouco', 'poucos', 'primeira', 'primeiras', 'primeiro', 'primeiros', \n",
    "                 'própria', 'próprias', 'próprio', 'próprios', 'próxima', 'próximas', 'próximo', 'próximos', 'pude', 'puderam', 'quais', 'quáis', 'qual', 'quando', 'quanto', 'quantos', 'quarta', 'quarto', 'quatro',\n",
    "                 'que', 'quê', 'quem', 'quer', 'quereis', 'querem', 'queremas', 'queres', 'quero', 'questão', 'quinta', 'quinto', 'quinze', 'relação', 'sabe', 'sabem', 'são', 'se', 'segunda', 'segundo', 'sei', \n",
    "                 'seis', 'seja', 'sejam', 'sejamos', 'sem', 'sempre', 'sendo', 'ser', 'será', 'serão', 'serei', 'seremos', 'seria', 'seriam', 'seríamos', 'sete', 'sétima', 'sétimo', 'seu', 'seus', 'sexta', 'sexto',\n",
    "                 'si', 'sido', 'sim', 'sistema', 'só', 'sob', 'sobre', 'sois', 'somos', 'sou', 'sua', 'suas', 'tal', 'talvez', 'também', 'tampouco', 'tanta', 'tantas', 'tanto', 'tão', 'tarde', 'te', 'tem', 'tém', \n",
    "                 'têm', 'temos', 'tendes', 'tendo', 'tenha', 'tenham', 'tenhamos', 'tenho', 'tens', 'ter', 'terá', 'terão', 'terceira', 'terceiro', 'terei', 'teremos', 'teria', 'teriam', 'teríamos', 'teu', 'teus',\n",
    "                 'teve', 'ti', 'tido', 'tinha', 'tinham', 'tínhamos', 'tive', 'tivemos', 'tiver', 'tivera', 'tiveram', 'tivéramos', 'tiverem', 'tivermos', 'tivesse', 'tivessem', 'tivéssemos', 'tiveste', 'tivestes',\n",
    "                 'toda', 'todas', 'todavia', 'todo', 'todos', 'trabalho', 'três', 'treze', 'tu', 'tua', 'tuas', 'tudo', 'última', 'últimas', 'último', 'últimos', 'um', 'uma', 'umas', 'uns', 'vai', 'vais', 'vão', \n",
    "                 'vários', 'vem', 'vêm', 'vendo', 'vens', 'ver', 'vez', 'vezes', 'viagem', 'vindo', 'vinte', 'vir', 'você', 'vocês', 'vos', 'vós', 'vossa', 'vossas', 'vosso', 'vossos', 'zero', '1', '2', '3', '4', \n",
    "                 '5', '6', '7', '8', '9', '0', '_' ,  'andar', 'sr', 'sra','dona', 'ficou', 'fica', 'ficaram', 'apresentou', 'apresenta', 'participa', 'liberar', 'tipo', 'tipos', 'promove', 'divulga', \n",
    "                 'apresentação','entrega', 'semestre', 'trimestre', 'divulgou', 'apresentou', 'marca','marcam','constata','constatou','abre','abriu','abriram','esclarece','esclareceu', 'promoveu', 'melhor',\n",
    "                 'melhores', 'pior', 'piores', 'foto','divulgação'\n",
    "                \n",
    "                ]\n",
    "stopwords.extend(new_stopwords)"
   ]
  },
  {
   "cell_type": "markdown",
   "id": "a01df841",
   "metadata": {
    "ExecuteTime": {
     "end_time": "2021-11-19T15:55:03.442202Z",
     "start_time": "2021-11-19T15:55:03.436204Z"
    }
   },
   "source": [
    "### Creating functions to clean columns"
   ]
  },
  {
   "cell_type": "code",
   "execution_count": 30,
   "id": "fb2e2b26",
   "metadata": {
    "ExecuteTime": {
     "end_time": "2021-11-19T17:09:43.742941Z",
     "start_time": "2021-11-19T17:09:26.662099Z"
    }
   },
   "outputs": [],
   "source": [
    "def clean_conteudo(i):\n",
    "    i= regex.sub(\"\\s+\", \" \", i) #remove extra space\n",
    "    i= regex.sub(\"[^\\w ]\", \"\", i) #remove punctuation\n",
    "    i= regex.sub(\"\\d+\", \"\", i) #remove numbers\n",
    "    i= regex.sub(\"/\\r?\\n|\\r/\", \"\", i) #remove new lines\n",
    "    i = \"\".join([words.lower() for words in i if words not in string.punctuation]) # convert all words to lower case = case normalization\n",
    "    # Tokenization: Splitting a sentence into words and creating a list, ie each sentence is a list of words\n",
    "    nltk.tokenize.word_tokenize(i) \n",
    "    #removing stop words:\n",
    "    words = nltk.tokenize.word_tokenize(i)\n",
    "    words_new = [x for x in words if x not in stopwords]\n",
    "    i= regex.sub(\"\\ \", \" \", i) #remove extra space\n",
    "    \n",
    "    return words_new\n",
    "\n",
    "df_isp['new_content'] = df_isp['conteudo'].apply(clean_conteudo)\n",
    "    "
   ]
  },
  {
   "cell_type": "code",
   "execution_count": 14,
   "id": "07d0d4d8",
   "metadata": {
    "ExecuteTime": {
     "end_time": "2021-11-19T16:46:15.475907Z",
     "start_time": "2021-11-19T16:46:15.463891Z"
    }
   },
   "outputs": [],
   "source": [
    "# df_isp[\"data_noticia\"] = lista_date\n",
    "# df_isp.drop('data', axis =1, inplace= True)  ==> already dropped"
   ]
  },
  {
   "cell_type": "code",
   "execution_count": 31,
   "id": "83030bca",
   "metadata": {
    "ExecuteTime": {
     "end_time": "2021-11-19T17:09:46.739073Z",
     "start_time": "2021-11-19T17:09:46.683101Z"
    }
   },
   "outputs": [],
   "source": [
    "def clean_data(i):\n",
    "        return regex.sub('[a-zA-Z]|\\d{2}:\\d{2}h', '', i)\n",
    "            \n",
    "df_isp['new_data'] = df_isp['data'].apply(clean_data)"
   ]
  },
  {
   "cell_type": "code",
   "execution_count": 16,
   "id": "e3c8c8de",
   "metadata": {
    "ExecuteTime": {
     "end_time": "2021-11-19T16:46:15.820103Z",
     "start_time": "2021-11-19T16:46:15.525292Z"
    }
   },
   "outputs": [],
   "source": [
    "def clean_titulo(i):\n",
    "    i= regex.sub(\"\\s+\", \" \", i) #remove extra space\n",
    "    i= regex.sub(\"[^\\w ]\", \"\", i) #remove punctuation\n",
    "    i= regex.sub(\"\\d+\", \" \", i) #remove numbers\n",
    "    i = \"\".join([words.lower() for words in i if words not in string.punctuation]) # convert all words to lower case = case normalization\n",
    "    # Tokenization: Splitting a sentence into words and creating a list, ie each sentence is a list of words\n",
    "    nltk.tokenize.word_tokenize(i) \n",
    "    #removing stop words:\n",
    "    words = nltk.tokenize.word_tokenize(i)\n",
    "    words_new = [x for x in words if x not in stopwords]\n",
    "    i= regex.sub(\"\\ \", \" \", i) #remove extra space\n",
    "    \n",
    "    \n",
    "    return words_new\n",
    "    \n",
    "df_isp['new_title'] =df_isp['titulo'].apply(clean_titulo)    "
   ]
  },
  {
   "cell_type": "markdown",
   "id": "09c35143",
   "metadata": {},
   "source": [
    "# Drop, rename and reorganize columns"
   ]
  },
  {
   "cell_type": "code",
   "execution_count": 32,
   "id": "33b63184",
   "metadata": {
    "ExecuteTime": {
     "end_time": "2021-11-19T17:09:49.828675Z",
     "start_time": "2021-11-19T17:09:49.694009Z"
    }
   },
   "outputs": [
    {
     "data": {
      "text/html": [
       "<div>\n",
       "<style scoped>\n",
       "    .dataframe tbody tr th:only-of-type {\n",
       "        vertical-align: middle;\n",
       "    }\n",
       "\n",
       "    .dataframe tbody tr th {\n",
       "        vertical-align: top;\n",
       "    }\n",
       "\n",
       "    .dataframe thead th {\n",
       "        text-align: right;\n",
       "    }\n",
       "</style>\n",
       "<table border=\"1\" class=\"dataframe\">\n",
       "  <thead>\n",
       "    <tr style=\"text-align: right;\">\n",
       "      <th></th>\n",
       "      <th>titulo</th>\n",
       "      <th>data</th>\n",
       "      <th>conteudo</th>\n",
       "      <th>new_content</th>\n",
       "      <th>new_data</th>\n",
       "    </tr>\n",
       "  </thead>\n",
       "  <tbody>\n",
       "    <tr>\n",
       "      <th>0</th>\n",
       "      <td>Roubos de veículos no Estado apresentou queda ...</td>\n",
       "      <td>Renata Fortes06/03/2008 16:35h</td>\n",
       "      <td>\\nO Instituto de Segurança Pública (ISP) divul...</td>\n",
       "      <td>[segurança, estatísticas, criminalidade, estad...</td>\n",
       "      <td>06/03/2008</td>\n",
       "    </tr>\n",
       "    <tr>\n",
       "      <th>1</th>\n",
       "      <td>Começa Curso de Capacitação para Policiais</td>\n",
       "      <td>Renata Fortes07/03/2008 16:39h</td>\n",
       "      <td>\\nO presidente do Instituto de Segurança Públi...</td>\n",
       "      <td>[presidente, segurança, mário, sérgio, duarte,...</td>\n",
       "      <td>07/03/2008</td>\n",
       "    </tr>\n",
       "    <tr>\n",
       "      <th>2</th>\n",
       "      <td>Dossiê Mulher</td>\n",
       "      <td>Renata Fortes07/03/2008 16:42h</td>\n",
       "      <td>\\nO Instituto de Segurança Pública informa que...</td>\n",
       "      <td>[segurança, informa, publicação, série, estudo...</td>\n",
       "      <td>07/03/2008</td>\n",
       "    </tr>\n",
       "    <tr>\n",
       "      <th>3</th>\n",
       "      <td>Reunião apresentará novo Presidente do Institu...</td>\n",
       "      <td>Renata Fortes07/03/2008 16:45h</td>\n",
       "      <td>\\nO Presidente do Instituto de Segurança Públi...</td>\n",
       "      <td>[presidente, segurança, mário, sergio, brito, ...</td>\n",
       "      <td>07/03/2008</td>\n",
       "    </tr>\n",
       "    <tr>\n",
       "      <th>4</th>\n",
       "      <td>Transparência, agilidade e maior clareza no le...</td>\n",
       "      <td>Renata Fortes07/03/2008 19:00h</td>\n",
       "      <td>\\nO Tenente-Coronel Mário Sérgio de Brito Duar...</td>\n",
       "      <td>[tenentecoronel, mário, sérgio, brito, duarte,...</td>\n",
       "      <td>07/03/2008</td>\n",
       "    </tr>\n",
       "  </tbody>\n",
       "</table>\n",
       "</div>"
      ],
      "text/plain": [
       "                                              titulo  \\\n",
       "0  Roubos de veículos no Estado apresentou queda ...   \n",
       "1         Começa Curso de Capacitação para Policiais   \n",
       "2                                      Dossiê Mulher   \n",
       "3  Reunião apresentará novo Presidente do Institu...   \n",
       "4  Transparência, agilidade e maior clareza no le...   \n",
       "\n",
       "                             data  \\\n",
       "0  Renata Fortes06/03/2008 16:35h   \n",
       "1  Renata Fortes07/03/2008 16:39h   \n",
       "2  Renata Fortes07/03/2008 16:42h   \n",
       "3  Renata Fortes07/03/2008 16:45h   \n",
       "4  Renata Fortes07/03/2008 19:00h   \n",
       "\n",
       "                                            conteudo  \\\n",
       "0  \\nO Instituto de Segurança Pública (ISP) divul...   \n",
       "1  \\nO presidente do Instituto de Segurança Públi...   \n",
       "2  \\nO Instituto de Segurança Pública informa que...   \n",
       "3  \\nO Presidente do Instituto de Segurança Públi...   \n",
       "4  \\nO Tenente-Coronel Mário Sérgio de Brito Duar...   \n",
       "\n",
       "                                         new_content      new_data  \n",
       "0  [segurança, estatísticas, criminalidade, estad...   06/03/2008   \n",
       "1  [presidente, segurança, mário, sérgio, duarte,...   07/03/2008   \n",
       "2  [segurança, informa, publicação, série, estudo...   07/03/2008   \n",
       "3  [presidente, segurança, mário, sergio, brito, ...   07/03/2008   \n",
       "4  [tenentecoronel, mário, sérgio, brito, duarte,...   07/03/2008   "
      ]
     },
     "execution_count": 32,
     "metadata": {},
     "output_type": "execute_result"
    }
   ],
   "source": [
    "df_isp.head()"
   ]
  },
  {
   "cell_type": "code",
   "execution_count": 18,
   "id": "8845c295",
   "metadata": {
    "ExecuteTime": {
     "end_time": "2021-11-19T16:46:15.930042Z",
     "start_time": "2021-11-19T16:46:15.869078Z"
    }
   },
   "outputs": [
    {
     "data": {
      "text/html": [
       "<div>\n",
       "<style scoped>\n",
       "    .dataframe tbody tr th:only-of-type {\n",
       "        vertical-align: middle;\n",
       "    }\n",
       "\n",
       "    .dataframe tbody tr th {\n",
       "        vertical-align: top;\n",
       "    }\n",
       "\n",
       "    .dataframe thead th {\n",
       "        text-align: right;\n",
       "    }\n",
       "</style>\n",
       "<table border=\"1\" class=\"dataframe\">\n",
       "  <thead>\n",
       "    <tr style=\"text-align: right;\">\n",
       "      <th></th>\n",
       "      <th>new_data</th>\n",
       "      <th>manchete</th>\n",
       "      <th>materia</th>\n",
       "      <th>titulo</th>\n",
       "      <th>data</th>\n",
       "      <th>conteudo</th>\n",
       "    </tr>\n",
       "  </thead>\n",
       "  <tbody>\n",
       "    <tr>\n",
       "      <th>0</th>\n",
       "      <td>06/03/2008</td>\n",
       "      <td>[roubos, veículos, estado, queda]</td>\n",
       "      <td>[segurança, estatísticas, criminalidade, estad...</td>\n",
       "      <td>Roubos de veículos no Estado apresentou queda ...</td>\n",
       "      <td>Renata Fortes06/03/2008 16:35h</td>\n",
       "      <td>\\nO Instituto de Segurança Pública (ISP) divul...</td>\n",
       "    </tr>\n",
       "    <tr>\n",
       "      <th>1</th>\n",
       "      <td>07/03/2008</td>\n",
       "      <td>[começa, curso, capacitação, policiais]</td>\n",
       "      <td>[presidente, segurança, mário, sérgio, duarte,...</td>\n",
       "      <td>Começa Curso de Capacitação para Policiais</td>\n",
       "      <td>Renata Fortes07/03/2008 16:39h</td>\n",
       "      <td>\\nO presidente do Instituto de Segurança Públi...</td>\n",
       "    </tr>\n",
       "    <tr>\n",
       "      <th>2</th>\n",
       "      <td>07/03/2008</td>\n",
       "      <td>[dossiê, mulher]</td>\n",
       "      <td>[segurança, informa, publicação, série, estudo...</td>\n",
       "      <td>Dossiê Mulher</td>\n",
       "      <td>Renata Fortes07/03/2008 16:42h</td>\n",
       "      <td>\\nO Instituto de Segurança Pública informa que...</td>\n",
       "    </tr>\n",
       "    <tr>\n",
       "      <th>3</th>\n",
       "      <td>07/03/2008</td>\n",
       "      <td>[reunião, apresentará, presidente, segurança]</td>\n",
       "      <td>[presidente, segurança, mário, sergio, brito, ...</td>\n",
       "      <td>Reunião apresentará novo Presidente do Institu...</td>\n",
       "      <td>Renata Fortes07/03/2008 16:45h</td>\n",
       "      <td>\\nO Presidente do Instituto de Segurança Públi...</td>\n",
       "    </tr>\n",
       "    <tr>\n",
       "      <th>4</th>\n",
       "      <td>07/03/2008</td>\n",
       "      <td>[transparência, agilidade, clareza, levantamen...</td>\n",
       "      <td>[tenentecoronel, mário, sérgio, brito, duarte,...</td>\n",
       "      <td>Transparência, agilidade e maior clareza no le...</td>\n",
       "      <td>Renata Fortes07/03/2008 19:00h</td>\n",
       "      <td>\\nO Tenente-Coronel Mário Sérgio de Brito Duar...</td>\n",
       "    </tr>\n",
       "    <tr>\n",
       "      <th>...</th>\n",
       "      <td>...</td>\n",
       "      <td>...</td>\n",
       "      <td>...</td>\n",
       "      <td>...</td>\n",
       "      <td>...</td>\n",
       "      <td>...</td>\n",
       "    </tr>\n",
       "    <tr>\n",
       "      <th>470</th>\n",
       "      <td>22/09/2021</td>\n",
       "      <td>[metade, mortes, policiais, serviço, ocorreu, ...</td>\n",
       "      <td>[estudo, mostra, agentes, mortos, anosum, estu...</td>\n",
       "      <td>Em cinco anos, mais da metade das mortes dos p...</td>\n",
       "      <td>22/09/2021 08:31h</td>\n",
       "      <td>\\nEstudo do ISP mostra ainda que, em 2020, o n...</td>\n",
       "    </tr>\n",
       "    <tr>\n",
       "      <th>471</th>\n",
       "      <td>24/09/2021</td>\n",
       "      <td>[homicídios, registrados]</td>\n",
       "      <td>[valor, acumulado, abaixo, contabilizado, pass...</td>\n",
       "      <td>Número de homicídios registrados de janeiro a ...</td>\n",
       "      <td>24/09/2021 08:36h</td>\n",
       "      <td>\\nValor para o acumulado de 2021 ficou 7% abai...</td>\n",
       "    </tr>\n",
       "    <tr>\n",
       "      <th>472</th>\n",
       "      <td></td>\n",
       "      <td>[]</td>\n",
       "      <td>[]</td>\n",
       "      <td></td>\n",
       "      <td></td>\n",
       "      <td>\\n\\n</td>\n",
       "    </tr>\n",
       "    <tr>\n",
       "      <th>473</th>\n",
       "      <td>18/10/2021</td>\n",
       "      <td>[dossiê, mulher, filhos, presentes, quase, fem...</td>\n",
       "      <td>[estudo, usado, governo, estado, elaboração, p...</td>\n",
       "      <td>Dossiê Mulher: filhos estavam presentes em qua...</td>\n",
       "      <td>18/10/2021 11:40h</td>\n",
       "      <td>\\nEstudo será usado pelo Governo do Estado par...</td>\n",
       "    </tr>\n",
       "    <tr>\n",
       "      <th>474</th>\n",
       "      <td>29/10/2021</td>\n",
       "      <td>[consecutivo, estado, rio, registra, homicídio...</td>\n",
       "      <td>[mortes, intencionais, registraram, queda, acu...</td>\n",
       "      <td>Pelo oitavo mês consecutivo, estado do Rio reg...</td>\n",
       "      <td>29/10/2021 09:19h</td>\n",
       "      <td>\\nAs mortes intencionais registraram queda de ...</td>\n",
       "    </tr>\n",
       "  </tbody>\n",
       "</table>\n",
       "<p>475 rows × 6 columns</p>\n",
       "</div>"
      ],
      "text/plain": [
       "         new_data                                           manchete  \\\n",
       "0     06/03/2008                   [roubos, veículos, estado, queda]   \n",
       "1     07/03/2008             [começa, curso, capacitação, policiais]   \n",
       "2     07/03/2008                                    [dossiê, mulher]   \n",
       "3     07/03/2008       [reunião, apresentará, presidente, segurança]   \n",
       "4     07/03/2008   [transparência, agilidade, clareza, levantamen...   \n",
       "..            ...                                                ...   \n",
       "470   22/09/2021   [metade, mortes, policiais, serviço, ocorreu, ...   \n",
       "471   24/09/2021                           [homicídios, registrados]   \n",
       "472                                                               []   \n",
       "473   18/10/2021   [dossiê, mulher, filhos, presentes, quase, fem...   \n",
       "474   29/10/2021   [consecutivo, estado, rio, registra, homicídio...   \n",
       "\n",
       "                                               materia  \\\n",
       "0    [segurança, estatísticas, criminalidade, estad...   \n",
       "1    [presidente, segurança, mário, sérgio, duarte,...   \n",
       "2    [segurança, informa, publicação, série, estudo...   \n",
       "3    [presidente, segurança, mário, sergio, brito, ...   \n",
       "4    [tenentecoronel, mário, sérgio, brito, duarte,...   \n",
       "..                                                 ...   \n",
       "470  [estudo, mostra, agentes, mortos, anosum, estu...   \n",
       "471  [valor, acumulado, abaixo, contabilizado, pass...   \n",
       "472                                                 []   \n",
       "473  [estudo, usado, governo, estado, elaboração, p...   \n",
       "474  [mortes, intencionais, registraram, queda, acu...   \n",
       "\n",
       "                                                titulo  \\\n",
       "0    Roubos de veículos no Estado apresentou queda ...   \n",
       "1           Começa Curso de Capacitação para Policiais   \n",
       "2                                        Dossiê Mulher   \n",
       "3    Reunião apresentará novo Presidente do Institu...   \n",
       "4    Transparência, agilidade e maior clareza no le...   \n",
       "..                                                 ...   \n",
       "470  Em cinco anos, mais da metade das mortes dos p...   \n",
       "471  Número de homicídios registrados de janeiro a ...   \n",
       "472                                                      \n",
       "473  Dossiê Mulher: filhos estavam presentes em qua...   \n",
       "474  Pelo oitavo mês consecutivo, estado do Rio reg...   \n",
       "\n",
       "                               data  \\\n",
       "0    Renata Fortes06/03/2008 16:35h   \n",
       "1    Renata Fortes07/03/2008 16:39h   \n",
       "2    Renata Fortes07/03/2008 16:42h   \n",
       "3    Renata Fortes07/03/2008 16:45h   \n",
       "4    Renata Fortes07/03/2008 19:00h   \n",
       "..                              ...   \n",
       "470               22/09/2021 08:31h   \n",
       "471               24/09/2021 08:36h   \n",
       "472                                   \n",
       "473               18/10/2021 11:40h   \n",
       "474               29/10/2021 09:19h   \n",
       "\n",
       "                                              conteudo  \n",
       "0    \\nO Instituto de Segurança Pública (ISP) divul...  \n",
       "1    \\nO presidente do Instituto de Segurança Públi...  \n",
       "2    \\nO Instituto de Segurança Pública informa que...  \n",
       "3    \\nO Presidente do Instituto de Segurança Públi...  \n",
       "4    \\nO Tenente-Coronel Mário Sérgio de Brito Duar...  \n",
       "..                                                 ...  \n",
       "470  \\nEstudo do ISP mostra ainda que, em 2020, o n...  \n",
       "471  \\nValor para o acumulado de 2021 ficou 7% abai...  \n",
       "472                                               \\n\\n  \n",
       "473  \\nEstudo será usado pelo Governo do Estado par...  \n",
       "474  \\nAs mortes intencionais registraram queda de ...  \n",
       "\n",
       "[475 rows x 6 columns]"
      ]
     },
     "execution_count": 18,
     "metadata": {},
     "output_type": "execute_result"
    }
   ],
   "source": [
    "df_isp = df_isp.rename(columns={'new_content': 'materia', 'new_title': 'manchete'})\n",
    "df_isp = df_isp[['new_data','manchete','materia','titulo','data','conteudo']]\n",
    "df_isp"
   ]
  },
  {
   "cell_type": "code",
   "execution_count": 36,
   "id": "853f8eb7",
   "metadata": {
    "ExecuteTime": {
     "end_time": "2021-11-19T17:10:24.227011Z",
     "start_time": "2021-11-19T17:10:24.170048Z"
    }
   },
   "outputs": [
    {
     "data": {
      "text/html": [
       "<div>\n",
       "<style scoped>\n",
       "    .dataframe tbody tr th:only-of-type {\n",
       "        vertical-align: middle;\n",
       "    }\n",
       "\n",
       "    .dataframe tbody tr th {\n",
       "        vertical-align: top;\n",
       "    }\n",
       "\n",
       "    .dataframe thead th {\n",
       "        text-align: right;\n",
       "    }\n",
       "</style>\n",
       "<table border=\"1\" class=\"dataframe\">\n",
       "  <thead>\n",
       "    <tr style=\"text-align: right;\">\n",
       "      <th></th>\n",
       "      <th>titulo</th>\n",
       "      <th>data</th>\n",
       "      <th>conteudo</th>\n",
       "      <th>new_content</th>\n",
       "      <th>data</th>\n",
       "    </tr>\n",
       "  </thead>\n",
       "  <tbody>\n",
       "    <tr>\n",
       "      <th>0</th>\n",
       "      <td>Roubos de veículos no Estado apresentou queda ...</td>\n",
       "      <td>Renata Fortes06/03/2008 16:35h</td>\n",
       "      <td>\\nO Instituto de Segurança Pública (ISP) divul...</td>\n",
       "      <td>[segurança, estatísticas, criminalidade, estad...</td>\n",
       "      <td>06/03/2008</td>\n",
       "    </tr>\n",
       "    <tr>\n",
       "      <th>1</th>\n",
       "      <td>Começa Curso de Capacitação para Policiais</td>\n",
       "      <td>Renata Fortes07/03/2008 16:39h</td>\n",
       "      <td>\\nO presidente do Instituto de Segurança Públi...</td>\n",
       "      <td>[presidente, segurança, mário, sérgio, duarte,...</td>\n",
       "      <td>07/03/2008</td>\n",
       "    </tr>\n",
       "    <tr>\n",
       "      <th>2</th>\n",
       "      <td>Dossiê Mulher</td>\n",
       "      <td>Renata Fortes07/03/2008 16:42h</td>\n",
       "      <td>\\nO Instituto de Segurança Pública informa que...</td>\n",
       "      <td>[segurança, informa, publicação, série, estudo...</td>\n",
       "      <td>07/03/2008</td>\n",
       "    </tr>\n",
       "    <tr>\n",
       "      <th>3</th>\n",
       "      <td>Reunião apresentará novo Presidente do Institu...</td>\n",
       "      <td>Renata Fortes07/03/2008 16:45h</td>\n",
       "      <td>\\nO Presidente do Instituto de Segurança Públi...</td>\n",
       "      <td>[presidente, segurança, mário, sergio, brito, ...</td>\n",
       "      <td>07/03/2008</td>\n",
       "    </tr>\n",
       "    <tr>\n",
       "      <th>4</th>\n",
       "      <td>Transparência, agilidade e maior clareza no le...</td>\n",
       "      <td>Renata Fortes07/03/2008 19:00h</td>\n",
       "      <td>\\nO Tenente-Coronel Mário Sérgio de Brito Duar...</td>\n",
       "      <td>[tenentecoronel, mário, sérgio, brito, duarte,...</td>\n",
       "      <td>07/03/2008</td>\n",
       "    </tr>\n",
       "    <tr>\n",
       "      <th>...</th>\n",
       "      <td>...</td>\n",
       "      <td>...</td>\n",
       "      <td>...</td>\n",
       "      <td>...</td>\n",
       "      <td>...</td>\n",
       "    </tr>\n",
       "    <tr>\n",
       "      <th>470</th>\n",
       "      <td>Em cinco anos, mais da metade das mortes dos p...</td>\n",
       "      <td>22/09/2021 08:31h</td>\n",
       "      <td>\\nEstudo do ISP mostra ainda que, em 2020, o n...</td>\n",
       "      <td>[estudo, mostra, agentes, mortos, anosum, estu...</td>\n",
       "      <td>22/09/2021</td>\n",
       "    </tr>\n",
       "    <tr>\n",
       "      <th>471</th>\n",
       "      <td>Número de homicídios registrados de janeiro a ...</td>\n",
       "      <td>24/09/2021 08:36h</td>\n",
       "      <td>\\nValor para o acumulado de 2021 ficou 7% abai...</td>\n",
       "      <td>[valor, acumulado, abaixo, contabilizado, pass...</td>\n",
       "      <td>24/09/2021</td>\n",
       "    </tr>\n",
       "    <tr>\n",
       "      <th>472</th>\n",
       "      <td></td>\n",
       "      <td></td>\n",
       "      <td>\\n\\n</td>\n",
       "      <td>[]</td>\n",
       "      <td></td>\n",
       "    </tr>\n",
       "    <tr>\n",
       "      <th>473</th>\n",
       "      <td>Dossiê Mulher: filhos estavam presentes em qua...</td>\n",
       "      <td>18/10/2021 11:40h</td>\n",
       "      <td>\\nEstudo será usado pelo Governo do Estado par...</td>\n",
       "      <td>[estudo, usado, governo, estado, elaboração, p...</td>\n",
       "      <td>18/10/2021</td>\n",
       "    </tr>\n",
       "    <tr>\n",
       "      <th>474</th>\n",
       "      <td>Pelo oitavo mês consecutivo, estado do Rio reg...</td>\n",
       "      <td>29/10/2021 09:19h</td>\n",
       "      <td>\\nAs mortes intencionais registraram queda de ...</td>\n",
       "      <td>[mortes, intencionais, registraram, queda, acu...</td>\n",
       "      <td>29/10/2021</td>\n",
       "    </tr>\n",
       "  </tbody>\n",
       "</table>\n",
       "<p>475 rows × 5 columns</p>\n",
       "</div>"
      ],
      "text/plain": [
       "                                                titulo  \\\n",
       "0    Roubos de veículos no Estado apresentou queda ...   \n",
       "1           Começa Curso de Capacitação para Policiais   \n",
       "2                                        Dossiê Mulher   \n",
       "3    Reunião apresentará novo Presidente do Institu...   \n",
       "4    Transparência, agilidade e maior clareza no le...   \n",
       "..                                                 ...   \n",
       "470  Em cinco anos, mais da metade das mortes dos p...   \n",
       "471  Número de homicídios registrados de janeiro a ...   \n",
       "472                                                      \n",
       "473  Dossiê Mulher: filhos estavam presentes em qua...   \n",
       "474  Pelo oitavo mês consecutivo, estado do Rio reg...   \n",
       "\n",
       "                               data  \\\n",
       "0    Renata Fortes06/03/2008 16:35h   \n",
       "1    Renata Fortes07/03/2008 16:39h   \n",
       "2    Renata Fortes07/03/2008 16:42h   \n",
       "3    Renata Fortes07/03/2008 16:45h   \n",
       "4    Renata Fortes07/03/2008 19:00h   \n",
       "..                              ...   \n",
       "470               22/09/2021 08:31h   \n",
       "471               24/09/2021 08:36h   \n",
       "472                                   \n",
       "473               18/10/2021 11:40h   \n",
       "474               29/10/2021 09:19h   \n",
       "\n",
       "                                              conteudo  \\\n",
       "0    \\nO Instituto de Segurança Pública (ISP) divul...   \n",
       "1    \\nO presidente do Instituto de Segurança Públi...   \n",
       "2    \\nO Instituto de Segurança Pública informa que...   \n",
       "3    \\nO Presidente do Instituto de Segurança Públi...   \n",
       "4    \\nO Tenente-Coronel Mário Sérgio de Brito Duar...   \n",
       "..                                                 ...   \n",
       "470  \\nEstudo do ISP mostra ainda que, em 2020, o n...   \n",
       "471  \\nValor para o acumulado de 2021 ficou 7% abai...   \n",
       "472                                               \\n\\n   \n",
       "473  \\nEstudo será usado pelo Governo do Estado par...   \n",
       "474  \\nAs mortes intencionais registraram queda de ...   \n",
       "\n",
       "                                           new_content          data  \n",
       "0    [segurança, estatísticas, criminalidade, estad...   06/03/2008   \n",
       "1    [presidente, segurança, mário, sérgio, duarte,...   07/03/2008   \n",
       "2    [segurança, informa, publicação, série, estudo...   07/03/2008   \n",
       "3    [presidente, segurança, mário, sergio, brito, ...   07/03/2008   \n",
       "4    [tenentecoronel, mário, sérgio, brito, duarte,...   07/03/2008   \n",
       "..                                                 ...           ...  \n",
       "470  [estudo, mostra, agentes, mortos, anosum, estu...   22/09/2021   \n",
       "471  [valor, acumulado, abaixo, contabilizado, pass...   24/09/2021   \n",
       "472                                                 []                \n",
       "473  [estudo, usado, governo, estado, elaboração, p...   18/10/2021   \n",
       "474  [mortes, intencionais, registraram, queda, acu...   29/10/2021   \n",
       "\n",
       "[475 rows x 5 columns]"
      ]
     },
     "execution_count": 36,
     "metadata": {},
     "output_type": "execute_result"
    }
   ],
   "source": [
    "df_isp = df_isp.rename(columns={'new_data':'data1'})\n",
    "df_isp"
   ]
  },
  {
   "cell_type": "code",
   "execution_count": 42,
   "id": "0ae7fe6d",
   "metadata": {
    "ExecuteTime": {
     "end_time": "2021-11-19T17:18:38.291225Z",
     "start_time": "2021-11-19T17:18:38.217275Z"
    }
   },
   "outputs": [
    {
     "data": {
      "text/html": [
       "<div>\n",
       "<style scoped>\n",
       "    .dataframe tbody tr th:only-of-type {\n",
       "        vertical-align: middle;\n",
       "    }\n",
       "\n",
       "    .dataframe tbody tr th {\n",
       "        vertical-align: top;\n",
       "    }\n",
       "\n",
       "    .dataframe thead th {\n",
       "        text-align: right;\n",
       "    }\n",
       "</style>\n",
       "<table border=\"1\" class=\"dataframe\">\n",
       "  <thead>\n",
       "    <tr style=\"text-align: right;\">\n",
       "      <th></th>\n",
       "      <th>titulo</th>\n",
       "      <th>conteudo</th>\n",
       "      <th>new_content</th>\n",
       "      <th>data</th>\n",
       "    </tr>\n",
       "  </thead>\n",
       "  <tbody>\n",
       "    <tr>\n",
       "      <th>0</th>\n",
       "      <td>Roubos de veículos no Estado apresentou queda ...</td>\n",
       "      <td>\\nO Instituto de Segurança Pública (ISP) divul...</td>\n",
       "      <td>[segurança, estatísticas, criminalidade, estad...</td>\n",
       "      <td>06/03/2008</td>\n",
       "    </tr>\n",
       "    <tr>\n",
       "      <th>1</th>\n",
       "      <td>Começa Curso de Capacitação para Policiais</td>\n",
       "      <td>\\nO presidente do Instituto de Segurança Públi...</td>\n",
       "      <td>[presidente, segurança, mário, sérgio, duarte,...</td>\n",
       "      <td>07/03/2008</td>\n",
       "    </tr>\n",
       "    <tr>\n",
       "      <th>2</th>\n",
       "      <td>Dossiê Mulher</td>\n",
       "      <td>\\nO Instituto de Segurança Pública informa que...</td>\n",
       "      <td>[segurança, informa, publicação, série, estudo...</td>\n",
       "      <td>07/03/2008</td>\n",
       "    </tr>\n",
       "    <tr>\n",
       "      <th>3</th>\n",
       "      <td>Reunião apresentará novo Presidente do Institu...</td>\n",
       "      <td>\\nO Presidente do Instituto de Segurança Públi...</td>\n",
       "      <td>[presidente, segurança, mário, sergio, brito, ...</td>\n",
       "      <td>07/03/2008</td>\n",
       "    </tr>\n",
       "    <tr>\n",
       "      <th>4</th>\n",
       "      <td>Transparência, agilidade e maior clareza no le...</td>\n",
       "      <td>\\nO Tenente-Coronel Mário Sérgio de Brito Duar...</td>\n",
       "      <td>[tenentecoronel, mário, sérgio, brito, duarte,...</td>\n",
       "      <td>07/03/2008</td>\n",
       "    </tr>\n",
       "    <tr>\n",
       "      <th>...</th>\n",
       "      <td>...</td>\n",
       "      <td>...</td>\n",
       "      <td>...</td>\n",
       "      <td>...</td>\n",
       "    </tr>\n",
       "    <tr>\n",
       "      <th>470</th>\n",
       "      <td>Em cinco anos, mais da metade das mortes dos p...</td>\n",
       "      <td>\\nEstudo do ISP mostra ainda que, em 2020, o n...</td>\n",
       "      <td>[estudo, mostra, agentes, mortos, anosum, estu...</td>\n",
       "      <td>22/09/2021</td>\n",
       "    </tr>\n",
       "    <tr>\n",
       "      <th>471</th>\n",
       "      <td>Número de homicídios registrados de janeiro a ...</td>\n",
       "      <td>\\nValor para o acumulado de 2021 ficou 7% abai...</td>\n",
       "      <td>[valor, acumulado, abaixo, contabilizado, pass...</td>\n",
       "      <td>24/09/2021</td>\n",
       "    </tr>\n",
       "    <tr>\n",
       "      <th>472</th>\n",
       "      <td></td>\n",
       "      <td>\\n\\n</td>\n",
       "      <td>[]</td>\n",
       "      <td></td>\n",
       "    </tr>\n",
       "    <tr>\n",
       "      <th>473</th>\n",
       "      <td>Dossiê Mulher: filhos estavam presentes em qua...</td>\n",
       "      <td>\\nEstudo será usado pelo Governo do Estado par...</td>\n",
       "      <td>[estudo, usado, governo, estado, elaboração, p...</td>\n",
       "      <td>18/10/2021</td>\n",
       "    </tr>\n",
       "    <tr>\n",
       "      <th>474</th>\n",
       "      <td>Pelo oitavo mês consecutivo, estado do Rio reg...</td>\n",
       "      <td>\\nAs mortes intencionais registraram queda de ...</td>\n",
       "      <td>[mortes, intencionais, registraram, queda, acu...</td>\n",
       "      <td>29/10/2021</td>\n",
       "    </tr>\n",
       "  </tbody>\n",
       "</table>\n",
       "<p>475 rows × 4 columns</p>\n",
       "</div>"
      ],
      "text/plain": [
       "                                                titulo  \\\n",
       "0    Roubos de veículos no Estado apresentou queda ...   \n",
       "1           Começa Curso de Capacitação para Policiais   \n",
       "2                                        Dossiê Mulher   \n",
       "3    Reunião apresentará novo Presidente do Institu...   \n",
       "4    Transparência, agilidade e maior clareza no le...   \n",
       "..                                                 ...   \n",
       "470  Em cinco anos, mais da metade das mortes dos p...   \n",
       "471  Número de homicídios registrados de janeiro a ...   \n",
       "472                                                      \n",
       "473  Dossiê Mulher: filhos estavam presentes em qua...   \n",
       "474  Pelo oitavo mês consecutivo, estado do Rio reg...   \n",
       "\n",
       "                                              conteudo  \\\n",
       "0    \\nO Instituto de Segurança Pública (ISP) divul...   \n",
       "1    \\nO presidente do Instituto de Segurança Públi...   \n",
       "2    \\nO Instituto de Segurança Pública informa que...   \n",
       "3    \\nO Presidente do Instituto de Segurança Públi...   \n",
       "4    \\nO Tenente-Coronel Mário Sérgio de Brito Duar...   \n",
       "..                                                 ...   \n",
       "470  \\nEstudo do ISP mostra ainda que, em 2020, o n...   \n",
       "471  \\nValor para o acumulado de 2021 ficou 7% abai...   \n",
       "472                                               \\n\\n   \n",
       "473  \\nEstudo será usado pelo Governo do Estado par...   \n",
       "474  \\nAs mortes intencionais registraram queda de ...   \n",
       "\n",
       "                                           new_content          data  \n",
       "0    [segurança, estatísticas, criminalidade, estad...   06/03/2008   \n",
       "1    [presidente, segurança, mário, sérgio, duarte,...   07/03/2008   \n",
       "2    [segurança, informa, publicação, série, estudo...   07/03/2008   \n",
       "3    [presidente, segurança, mário, sergio, brito, ...   07/03/2008   \n",
       "4    [tenentecoronel, mário, sérgio, brito, duarte,...   07/03/2008   \n",
       "..                                                 ...           ...  \n",
       "470  [estudo, mostra, agentes, mortos, anosum, estu...   22/09/2021   \n",
       "471  [valor, acumulado, abaixo, contabilizado, pass...   24/09/2021   \n",
       "472                                                 []                \n",
       "473  [estudo, usado, governo, estado, elaboração, p...   18/10/2021   \n",
       "474  [mortes, intencionais, registraram, queda, acu...   29/10/2021   \n",
       "\n",
       "[475 rows x 4 columns]"
      ]
     },
     "execution_count": 42,
     "metadata": {},
     "output_type": "execute_result"
    }
   ],
   "source": [
    "# df_isp = df_isp.iloc[:, [0,2,3,4]]\n",
    "df_isp"
   ]
  },
  {
   "cell_type": "code",
   "execution_count": 44,
   "id": "45b83f3c",
   "metadata": {
    "ExecuteTime": {
     "end_time": "2021-11-19T17:22:28.083911Z",
     "start_time": "2021-11-19T17:22:28.015964Z"
    }
   },
   "outputs": [
    {
     "name": "stderr",
     "output_type": "stream",
     "text": [
      "<ipython-input-44-d44f00757953>:1: SettingWithCopyWarning: \n",
      "A value is trying to be set on a copy of a slice from a DataFrame.\n",
      "Try using .loc[row_indexer,col_indexer] = value instead\n",
      "\n",
      "See the caveats in the documentation: https://pandas.pydata.org/pandas-docs/stable/user_guide/indexing.html#returning-a-view-versus-a-copy\n",
      "  df_isp['new_content'] = df_isp['new_content'].apply(lambda x: \" \".join(x))\n"
     ]
    }
   ],
   "source": [
    "df_isp['new_content'] = df_isp['new_content'].apply(lambda x: \" \".join(x))"
   ]
  },
  {
   "cell_type": "code",
   "execution_count": 48,
   "id": "c4d05e52",
   "metadata": {
    "ExecuteTime": {
     "end_time": "2021-11-19T18:29:02.631622Z",
     "start_time": "2021-11-19T18:29:02.559663Z"
    }
   },
   "outputs": [
    {
     "name": "stderr",
     "output_type": "stream",
     "text": [
      "C:\\Users\\Indra\\AppData\\Roaming\\Python\\Python38\\site-packages\\pandas\\core\\frame.py:4906: SettingWithCopyWarning: \n",
      "A value is trying to be set on a copy of a slice from a DataFrame\n",
      "\n",
      "See the caveats in the documentation: https://pandas.pydata.org/pandas-docs/stable/user_guide/indexing.html#returning-a-view-versus-a-copy\n",
      "  return super().drop(\n"
     ]
    }
   ],
   "source": [
    "df_isp.drop('conteudo', axis =1, inplace= True) "
   ]
  },
  {
   "cell_type": "code",
   "execution_count": 50,
   "id": "59ffc29b",
   "metadata": {
    "ExecuteTime": {
     "end_time": "2021-11-19T18:30:33.435515Z",
     "start_time": "2021-11-19T18:30:33.391340Z"
    }
   },
   "outputs": [
    {
     "data": {
      "text/html": [
       "<div>\n",
       "<style scoped>\n",
       "    .dataframe tbody tr th:only-of-type {\n",
       "        vertical-align: middle;\n",
       "    }\n",
       "\n",
       "    .dataframe tbody tr th {\n",
       "        vertical-align: top;\n",
       "    }\n",
       "\n",
       "    .dataframe thead th {\n",
       "        text-align: right;\n",
       "    }\n",
       "</style>\n",
       "<table border=\"1\" class=\"dataframe\">\n",
       "  <thead>\n",
       "    <tr style=\"text-align: right;\">\n",
       "      <th></th>\n",
       "      <th>data</th>\n",
       "      <th>manchete</th>\n",
       "      <th>materia</th>\n",
       "    </tr>\n",
       "  </thead>\n",
       "  <tbody>\n",
       "    <tr>\n",
       "      <th>0</th>\n",
       "      <td>06/03/2008</td>\n",
       "      <td>Roubos de veículos no Estado apresentou queda ...</td>\n",
       "      <td>segurança estatísticas criminalidade estado re...</td>\n",
       "    </tr>\n",
       "    <tr>\n",
       "      <th>1</th>\n",
       "      <td>07/03/2008</td>\n",
       "      <td>Começa Curso de Capacitação para Policiais</td>\n",
       "      <td>presidente segurança mário sérgio duarte aula ...</td>\n",
       "    </tr>\n",
       "    <tr>\n",
       "      <th>2</th>\n",
       "      <td>07/03/2008</td>\n",
       "      <td>Dossiê Mulher</td>\n",
       "      <td>segurança informa publicação série estudos dos...</td>\n",
       "    </tr>\n",
       "    <tr>\n",
       "      <th>3</th>\n",
       "      <td>07/03/2008</td>\n",
       "      <td>Reunião apresentará novo Presidente do Institu...</td>\n",
       "      <td>presidente segurança mário sergio brito duarte...</td>\n",
       "    </tr>\n",
       "    <tr>\n",
       "      <th>4</th>\n",
       "      <td>07/03/2008</td>\n",
       "      <td>Transparência, agilidade e maior clareza no le...</td>\n",
       "      <td>tenentecoronel mário sérgio brito duarte afirm...</td>\n",
       "    </tr>\n",
       "    <tr>\n",
       "      <th>...</th>\n",
       "      <td>...</td>\n",
       "      <td>...</td>\n",
       "      <td>...</td>\n",
       "    </tr>\n",
       "    <tr>\n",
       "      <th>470</th>\n",
       "      <td>22/09/2021</td>\n",
       "      <td>Em cinco anos, mais da metade das mortes dos p...</td>\n",
       "      <td>estudo mostra agentes mortos anosum estudo pro...</td>\n",
       "    </tr>\n",
       "    <tr>\n",
       "      <th>471</th>\n",
       "      <td>24/09/2021</td>\n",
       "      <td>Número de homicídios registrados de janeiro a ...</td>\n",
       "      <td>valor acumulado abaixo contabilizado passadoos...</td>\n",
       "    </tr>\n",
       "    <tr>\n",
       "      <th>472</th>\n",
       "      <td></td>\n",
       "      <td></td>\n",
       "      <td></td>\n",
       "    </tr>\n",
       "    <tr>\n",
       "      <th>473</th>\n",
       "      <td>18/10/2021</td>\n",
       "      <td>Dossiê Mulher: filhos estavam presentes em qua...</td>\n",
       "      <td>estudo usado governo estado elaboração polític...</td>\n",
       "    </tr>\n",
       "    <tr>\n",
       "      <th>474</th>\n",
       "      <td>29/10/2021</td>\n",
       "      <td>Pelo oitavo mês consecutivo, estado do Rio reg...</td>\n",
       "      <td>mortes intencionais registraram queda acumulad...</td>\n",
       "    </tr>\n",
       "  </tbody>\n",
       "</table>\n",
       "<p>475 rows × 3 columns</p>\n",
       "</div>"
      ],
      "text/plain": [
       "             data                                           manchete  \\\n",
       "0     06/03/2008   Roubos de veículos no Estado apresentou queda ...   \n",
       "1     07/03/2008          Começa Curso de Capacitação para Policiais   \n",
       "2     07/03/2008                                       Dossiê Mulher   \n",
       "3     07/03/2008   Reunião apresentará novo Presidente do Institu...   \n",
       "4     07/03/2008   Transparência, agilidade e maior clareza no le...   \n",
       "..            ...                                                ...   \n",
       "470   22/09/2021   Em cinco anos, mais da metade das mortes dos p...   \n",
       "471   24/09/2021   Número de homicídios registrados de janeiro a ...   \n",
       "472                                                                    \n",
       "473   18/10/2021   Dossiê Mulher: filhos estavam presentes em qua...   \n",
       "474   29/10/2021   Pelo oitavo mês consecutivo, estado do Rio reg...   \n",
       "\n",
       "                                               materia  \n",
       "0    segurança estatísticas criminalidade estado re...  \n",
       "1    presidente segurança mário sérgio duarte aula ...  \n",
       "2    segurança informa publicação série estudos dos...  \n",
       "3    presidente segurança mário sergio brito duarte...  \n",
       "4    tenentecoronel mário sérgio brito duarte afirm...  \n",
       "..                                                 ...  \n",
       "470  estudo mostra agentes mortos anosum estudo pro...  \n",
       "471  valor acumulado abaixo contabilizado passadoos...  \n",
       "472                                                     \n",
       "473  estudo usado governo estado elaboração polític...  \n",
       "474  mortes intencionais registraram queda acumulad...  \n",
       "\n",
       "[475 rows x 3 columns]"
      ]
     },
     "execution_count": 50,
     "metadata": {},
     "output_type": "execute_result"
    }
   ],
   "source": [
    "df_isp = df_isp.rename(columns={'titulo': 'manchete', 'new_content': 'materia'})\n",
    "df_isp = df_isp[['data','manchete','materia']]\n",
    "df_isp"
   ]
  },
  {
   "cell_type": "markdown",
   "id": "1d8cd6dc",
   "metadata": {},
   "source": [
    "# Connect to database¶\n",
    "We'll use an API (Application Programming Interface) to connect to our database.\n",
    "SQLAlchemy is the Python SQL toolkit and Object Relational Mapper that gives application developers the full power and flexibility of SQL."
   ]
  },
  {
   "cell_type": "code",
   "execution_count": 51,
   "id": "43c0ea45",
   "metadata": {
    "ExecuteTime": {
     "end_time": "2021-11-19T18:30:38.365763Z",
     "start_time": "2021-11-19T18:30:38.192740Z"
    }
   },
   "outputs": [],
   "source": [
    "db_server='pymysql'\n",
    "user='root'\n",
    "db_port = '3306'\n",
    "password = 'bigdata2021!!'\n",
    "ip = 'localhost'\n",
    "db_name = 'isp_rj_news'\n",
    "engine = db.create_engine(f'mysql+{db_server}://{user}:{password}@{ip}:{db_port}/{db_name}?charset=utf8')\n",
    "con = engine.connect()"
   ]
  },
  {
   "cell_type": "code",
   "execution_count": 52,
   "id": "e1aa05f4",
   "metadata": {
    "ExecuteTime": {
     "end_time": "2021-11-19T18:30:40.403622Z",
     "start_time": "2021-11-19T18:30:39.728501Z"
    }
   },
   "outputs": [],
   "source": [
    "sql_isp_conteudo = df_isp.to_sql(con=con, name='isp_rj_content', if_exists='replace')\n",
    "sql_isp_conteudo"
   ]
  },
  {
   "cell_type": "code",
   "execution_count": null,
   "id": "ef21b35b",
   "metadata": {},
   "outputs": [],
   "source": []
  }
 ],
 "metadata": {
  "kernelspec": {
   "display_name": "Python 3",
   "language": "python",
   "name": "python3"
  },
  "language_info": {
   "codemirror_mode": {
    "name": "ipython",
    "version": 3
   },
   "file_extension": ".py",
   "mimetype": "text/x-python",
   "name": "python",
   "nbconvert_exporter": "python",
   "pygments_lexer": "ipython3",
   "version": "3.8.8"
  },
  "toc": {
   "base_numbering": 1,
   "nav_menu": {},
   "number_sections": true,
   "sideBar": true,
   "skip_h1_title": false,
   "title_cell": "Table of Contents",
   "title_sidebar": "Contents",
   "toc_cell": false,
   "toc_position": {},
   "toc_section_display": true,
   "toc_window_display": false
  },
  "varInspector": {
   "cols": {
    "lenName": 16,
    "lenType": 16,
    "lenVar": 40
   },
   "kernels_config": {
    "python": {
     "delete_cmd_postfix": "",
     "delete_cmd_prefix": "del ",
     "library": "var_list.py",
     "varRefreshCmd": "print(var_dic_list())"
    },
    "r": {
     "delete_cmd_postfix": ") ",
     "delete_cmd_prefix": "rm(",
     "library": "var_list.r",
     "varRefreshCmd": "cat(var_dic_list()) "
    }
   },
   "types_to_exclude": [
    "module",
    "function",
    "builtin_function_or_method",
    "instance",
    "_Feature"
   ],
   "window_display": false
  }
 },
 "nbformat": 4,
 "nbformat_minor": 5
}
